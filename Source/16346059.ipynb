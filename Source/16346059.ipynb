{
 "cells": [
  {
   "cell_type": "code",
   "execution_count": 1,
   "id": "9c694200",
   "metadata": {
    "tags": []
   },
   "outputs": [],
   "source": [
    "import pandas as pd\n"
   ]
  },
  {
   "cell_type": "code",
   "execution_count": 2,
   "id": "71ae9ee4",
   "metadata": {
    "tags": []
   },
   "outputs": [],
   "source": [
    "# loading clean data"
   ]
  },
  {
   "cell_type": "code",
   "execution_count": 3,
   "id": "7ff2051c",
   "metadata": {
    "tags": []
   },
   "outputs": [
    {
     "name": "stdout",
     "output_type": "stream",
     "text": [
      "   Unnamed: 0  Pregnancies  Glucose  BloodPressure  SkinThickness  Insulin  \\\n",
      "0           0            6      148             72             35        0   \n",
      "1           1            1       85             66             29        0   \n",
      "2           2            8      183             64              0        0   \n",
      "3           3            1       89             66             23       94   \n",
      "4           4            0      137             40             35      168   \n",
      "\n",
      "    BMI  DiabetesPedigreeFunction  Age  Outcome  \n",
      "0  33.6                     0.627   50        1  \n",
      "1  26.6                     0.351   31        0  \n",
      "2  23.3                     0.672   32        1  \n",
      "3  28.1                     0.167   21        0  \n",
      "4  43.1                     2.288   33        1  \n"
     ]
    }
   ],
   "source": [
    "diabetes = pd.read_csv('D:/16346059/Diabetes_Analysis/data_clean/diabetes.csv')\n",
    "\n",
    "print(diabetes.head())"
   ]
  },
  {
   "cell_type": "code",
   "execution_count": 4,
   "id": "30eaa808",
   "metadata": {
    "tags": []
   },
   "outputs": [
    {
     "name": "stdout",
     "output_type": "stream",
     "text": [
      "<class 'pandas.core.frame.DataFrame'>\n",
      "RangeIndex: 768 entries, 0 to 767\n",
      "Data columns (total 10 columns):\n",
      " #   Column                    Non-Null Count  Dtype  \n",
      "---  ------                    --------------  -----  \n",
      " 0   Unnamed: 0                768 non-null    int64  \n",
      " 1   Pregnancies               768 non-null    int64  \n",
      " 2   Glucose                   768 non-null    int64  \n",
      " 3   BloodPressure             768 non-null    int64  \n",
      " 4   SkinThickness             768 non-null    int64  \n",
      " 5   Insulin                   768 non-null    int64  \n",
      " 6   BMI                       768 non-null    float64\n",
      " 7   DiabetesPedigreeFunction  768 non-null    float64\n",
      " 8   Age                       768 non-null    int64  \n",
      " 9   Outcome                   768 non-null    int64  \n",
      "dtypes: float64(2), int64(8)\n",
      "memory usage: 60.1 KB\n"
     ]
    }
   ],
   "source": [
    "diabetes.info()\n",
    "\n"
   ]
  },
  {
   "cell_type": "code",
   "execution_count": 5,
   "id": "87471280",
   "metadata": {
    "tags": []
   },
   "outputs": [],
   "source": [
    "# importing libraries\n",
    "\n",
    "import matplotlib.pyplot as plt\n",
    "import seaborn as sns\n",
    "import numpy as np\n",
    "\n",
    "\n"
   ]
  },
  {
   "cell_type": "code",
   "execution_count": 279,
   "id": "df2411ce",
   "metadata": {},
   "outputs": [],
   "source": [
    "#generating sample from population with size 25( seeting the seed as id num last 4 digits using randam_state)"
   ]
  },
  {
   "cell_type": "code",
   "execution_count": 7,
   "id": "ad29cc87",
   "metadata": {
    "tags": []
   },
   "outputs": [],
   "source": [
    "get_sample_population= diabetes.sample(n= 25, random_state= 1642)\n"
   ]
  },
  {
   "cell_type": "code",
   "execution_count": 9,
   "id": "b66430d7",
   "metadata": {
    "tags": []
   },
   "outputs": [
    {
     "data": {
      "text/html": [
       "<div>\n",
       "<style scoped>\n",
       "    .dataframe tbody tr th:only-of-type {\n",
       "        vertical-align: middle;\n",
       "    }\n",
       "\n",
       "    .dataframe tbody tr th {\n",
       "        vertical-align: top;\n",
       "    }\n",
       "\n",
       "    .dataframe thead th {\n",
       "        text-align: right;\n",
       "    }\n",
       "</style>\n",
       "<table border=\"1\" class=\"dataframe\">\n",
       "  <thead>\n",
       "    <tr style=\"text-align: right;\">\n",
       "      <th></th>\n",
       "      <th>Unnamed: 0</th>\n",
       "      <th>Pregnancies</th>\n",
       "      <th>Glucose</th>\n",
       "      <th>BloodPressure</th>\n",
       "      <th>SkinThickness</th>\n",
       "      <th>Insulin</th>\n",
       "      <th>BMI</th>\n",
       "      <th>DiabetesPedigreeFunction</th>\n",
       "      <th>Age</th>\n",
       "      <th>Outcome</th>\n",
       "    </tr>\n",
       "  </thead>\n",
       "  <tbody>\n",
       "    <tr>\n",
       "      <th>698</th>\n",
       "      <td>698</td>\n",
       "      <td>4</td>\n",
       "      <td>127</td>\n",
       "      <td>88</td>\n",
       "      <td>11</td>\n",
       "      <td>155</td>\n",
       "      <td>34.5</td>\n",
       "      <td>0.598</td>\n",
       "      <td>28</td>\n",
       "      <td>0</td>\n",
       "    </tr>\n",
       "    <tr>\n",
       "      <th>164</th>\n",
       "      <td>164</td>\n",
       "      <td>0</td>\n",
       "      <td>131</td>\n",
       "      <td>88</td>\n",
       "      <td>0</td>\n",
       "      <td>0</td>\n",
       "      <td>31.6</td>\n",
       "      <td>0.743</td>\n",
       "      <td>32</td>\n",
       "      <td>1</td>\n",
       "    </tr>\n",
       "    <tr>\n",
       "      <th>429</th>\n",
       "      <td>429</td>\n",
       "      <td>1</td>\n",
       "      <td>95</td>\n",
       "      <td>82</td>\n",
       "      <td>25</td>\n",
       "      <td>180</td>\n",
       "      <td>35.0</td>\n",
       "      <td>0.233</td>\n",
       "      <td>43</td>\n",
       "      <td>1</td>\n",
       "    </tr>\n",
       "    <tr>\n",
       "      <th>741</th>\n",
       "      <td>741</td>\n",
       "      <td>3</td>\n",
       "      <td>102</td>\n",
       "      <td>44</td>\n",
       "      <td>20</td>\n",
       "      <td>94</td>\n",
       "      <td>30.8</td>\n",
       "      <td>0.400</td>\n",
       "      <td>26</td>\n",
       "      <td>0</td>\n",
       "    </tr>\n",
       "    <tr>\n",
       "      <th>148</th>\n",
       "      <td>148</td>\n",
       "      <td>5</td>\n",
       "      <td>147</td>\n",
       "      <td>78</td>\n",
       "      <td>0</td>\n",
       "      <td>0</td>\n",
       "      <td>33.7</td>\n",
       "      <td>0.218</td>\n",
       "      <td>65</td>\n",
       "      <td>0</td>\n",
       "    </tr>\n",
       "  </tbody>\n",
       "</table>\n",
       "</div>"
      ],
      "text/plain": [
       "     Unnamed: 0  Pregnancies  Glucose  BloodPressure  SkinThickness  Insulin  \\\n",
       "698         698            4      127             88             11      155   \n",
       "164         164            0      131             88              0        0   \n",
       "429         429            1       95             82             25      180   \n",
       "741         741            3      102             44             20       94   \n",
       "148         148            5      147             78              0        0   \n",
       "\n",
       "      BMI  DiabetesPedigreeFunction  Age  Outcome  \n",
       "698  34.5                     0.598   28        0  \n",
       "164  31.6                     0.743   32        1  \n",
       "429  35.0                     0.233   43        1  \n",
       "741  30.8                     0.400   26        0  \n",
       "148  33.7                     0.218   65        0  "
      ]
     },
     "execution_count": 9,
     "metadata": {},
     "output_type": "execute_result"
    }
   ],
   "source": [
    "get_sample_population.head()\n"
   ]
  },
  {
   "cell_type": "code",
   "execution_count": 14,
   "id": "e04041dc",
   "metadata": {
    "tags": []
   },
   "outputs": [],
   "source": [
    "#finding mean for the Glucose column sample"
   ]
  },
  {
   "cell_type": "code",
   "execution_count": 15,
   "id": "4684216d",
   "metadata": {
    "tags": []
   },
   "outputs": [],
   "source": [
    "sample_glucose_mean=get_sample_population[\"Glucose\"].mean()"
   ]
  },
  {
   "cell_type": "code",
   "execution_count": 16,
   "id": "c2e4a93a",
   "metadata": {
    "tags": []
   },
   "outputs": [],
   "source": [
    "#finding max value for the Glucose column sample data"
   ]
  },
  {
   "cell_type": "code",
   "execution_count": 40,
   "id": "1cefeecd",
   "metadata": {
    "tags": []
   },
   "outputs": [],
   "source": [
    "sample_glucose_max_value=get_sample_population[\"Glucose\"].max()"
   ]
  },
  {
   "cell_type": "code",
   "execution_count": 18,
   "id": "c7936fd2",
   "metadata": {
    "tags": []
   },
   "outputs": [],
   "source": [
    "#finding mean for Glucose column for whole population"
   ]
  },
  {
   "cell_type": "code",
   "execution_count": 20,
   "id": "dbab60bf",
   "metadata": {
    "tags": []
   },
   "outputs": [],
   "source": [
    "population_mean=diabetes[\"Glucose\"].mean()"
   ]
  },
  {
   "cell_type": "code",
   "execution_count": 21,
   "id": "e1b87fd3",
   "metadata": {
    "tags": []
   },
   "outputs": [],
   "source": [
    "#finding max value for Gl;ucose column for whole population"
   ]
  },
  {
   "cell_type": "code",
   "execution_count": 23,
   "id": "a549fbc9",
   "metadata": {
    "tags": []
   },
   "outputs": [],
   "source": [
    "population_max_value=diabetes[\"Glucose\"].max()"
   ]
  },
  {
   "cell_type": "code",
   "execution_count": 24,
   "id": "7438a60d",
   "metadata": {
    "tags": []
   },
   "outputs": [],
   "source": [
    "# creating list for sample and population mean for visualization"
   ]
  },
  {
   "cell_type": "code",
   "execution_count": 29,
   "id": "0a510103",
   "metadata": {
    "tags": []
   },
   "outputs": [],
   "source": [
    "keys=[\"sample\",\"population\"]"
   ]
  },
  {
   "cell_type": "code",
   "execution_count": 30,
   "id": "074ae81c",
   "metadata": {
    "tags": []
   },
   "outputs": [],
   "source": [
    "values=[sample_glucose_mean,population_mean]"
   ]
  },
  {
   "cell_type": "code",
   "execution_count": 31,
   "id": "7d51496a",
   "metadata": {
    "tags": []
   },
   "outputs": [
    {
     "name": "stdout",
     "output_type": "stream",
     "text": [
      "[137.2, 120.89453125]\n"
     ]
    }
   ],
   "source": [
    "print(values)"
   ]
  },
  {
   "cell_type": "code",
   "execution_count": 32,
   "id": "7c7a4bcf",
   "metadata": {
    "tags": []
   },
   "outputs": [],
   "source": [
    "#visualizing the sample and population means"
   ]
  },
  {
   "cell_type": "code",
   "execution_count": 57,
   "id": "d8a27b62",
   "metadata": {
    "tags": []
   },
   "outputs": [
    {
     "data": {
      "image/png": "[encoded data removed]",
      "text/plain": [
       "<Figure size 640x480 with 1 Axes>"
      ]
     },
     "metadata": {},
     "output_type": "display_data"
    }
   ],
   "source": [
    "plt.bar(keys, values, color ='red',\n",
    "        width = 0.5)\n",
    " \n",
    "plt.xlabel(\"mean\")\n",
    "plt.ylabel(\"mean values\")\n",
    "plt.title(\"comparing sample and population means\")\n",
    "\n",
    "\n",
    "plt.savefig(\"D:/16346059/Diabetes_Analysis/results/sample_population_mean_comparison.png\")\n",
    "\n",
    "plt.show()\n"
   ]
  },
  {
   "cell_type": "code",
   "execution_count": 36,
   "id": "ddc0f678",
   "metadata": {
    "tags": []
   },
   "outputs": [],
   "source": [
    "#generating lists for max glucose values for sample and population data set"
   ]
  },
  {
   "cell_type": "code",
   "execution_count": 37,
   "id": "230ede57",
   "metadata": {
    "tags": []
   },
   "outputs": [],
   "source": [
    "keys=[\"sample\",\"population\"]"
   ]
  },
  {
   "cell_type": "code",
   "execution_count": 41,
   "id": "8d0b10c5",
   "metadata": {
    "tags": []
   },
   "outputs": [],
   "source": [
    "values=[sample_glucose_max_value,population_max_value]"
   ]
  },
  {
   "cell_type": "code",
   "execution_count": 42,
   "id": "59841d34",
   "metadata": {
    "tags": []
   },
   "outputs": [],
   "source": [
    "#visualizing the sample and population max value\n"
   ]
  },
  {
   "cell_type": "code",
   "execution_count": 56,
   "id": "2defbafd",
   "metadata": {
    "tags": []
   },
   "outputs": [
    {
     "data": {
      "image/png": "[encoded data removed]",
      "text/plain": [
       "<Figure size 640x480 with 1 Axes>"
      ]
     },
     "metadata": {},
     "output_type": "display_data"
    }
   ],
   "source": [
    "plt.bar(keys, values, color ='red',\n",
    "        width = 0.5)\n",
    " \n",
    "plt.xlabel(\"max\")\n",
    "plt.ylabel(\"maximum values\")\n",
    "plt.title(\"comparing sample and population max values\")\n",
    "\n",
    "\n",
    "plt.savefig(\"D:/16346059/Diabetes_Analysis/results/sample_population_max.png\")\n",
    "\n",
    "plt.show()\n"
   ]
  },
  {
   "cell_type": "code",
   "execution_count": 45,
   "id": "e4da1c36",
   "metadata": {
    "tags": []
   },
   "outputs": [],
   "source": [
    "# finding the 98th percentile for BMI for sample and population"
   ]
  },
  {
   "cell_type": "code",
   "execution_count": 47,
   "id": "1728d816",
   "metadata": {
    "tags": []
   },
   "outputs": [],
   "source": [
    "sample_98=get_sample_population.BMI.quantile(0.98)  # 90th percentile\n"
   ]
  },
  {
   "cell_type": "code",
   "execution_count": 49,
   "id": "6e73ff76",
   "metadata": {
    "tags": []
   },
   "outputs": [],
   "source": [
    "population_98=diabetes.BMI.quantile(0.98)"
   ]
  },
  {
   "cell_type": "code",
   "execution_count": 50,
   "id": "9f00a4c0",
   "metadata": {
    "tags": []
   },
   "outputs": [],
   "source": [
    "#generating lists to visualize 98 th percentile of BMI"
   ]
  },
  {
   "cell_type": "code",
   "execution_count": 51,
   "id": "3e450ced",
   "metadata": {
    "tags": []
   },
   "outputs": [],
   "source": [
    "keys=[\"sample\",\"population\"]\n",
    "\n",
    "values=[sample_98,population_98]"
   ]
  },
  {
   "cell_type": "code",
   "execution_count": 52,
   "id": "cdc73d47",
   "metadata": {
    "tags": []
   },
   "outputs": [],
   "source": [
    "# visualizing the 98th percentile of BMI for sample and population data sets\n"
   ]
  },
  {
   "cell_type": "code",
   "execution_count": 58,
   "id": "27b78328",
   "metadata": {
    "tags": []
   },
   "outputs": [
    {
     "data": {
      "image/png": "[encoded data removed]",
      "text/plain": [
       "<Figure size 640x480 with 1 Axes>"
      ]
     },
     "metadata": {},
     "output_type": "display_data"
    }
   ],
   "source": [
    "plt.bar(keys, values, color ='red',\n",
    "        width = 0.5)\n",
    " \n",
    "plt.xlabel(\"98th percentile\")\n",
    "plt.ylabel(\"Numerical values \")\n",
    "plt.title(\"comparing sample and population 98th percentile\")\n",
    "\n",
    "\n",
    "plt.savefig(\"D:/16346059/Diabetes_Analysis/results/sample_population_98th percentile.png\")\n",
    "\n",
    "plt.show()\n"
   ]
  },
  {
   "cell_type": "code",
   "execution_count": null,
   "id": "cf7e4d58",
   "metadata": {},
   "outputs": [],
   "source": []
  },
  {
   "cell_type": "code",
   "execution_count": 59,
   "id": "361006d3",
   "metadata": {
    "tags": []
   },
   "outputs": [],
   "source": [
    "#  Creating 500 sample using bootstrap"
   ]
  },
  {
   "cell_type": "code",
   "execution_count": 61,
   "id": "2944cde8",
   "metadata": {
    "tags": []
   },
   "outputs": [
    {
     "name": "stdout",
     "output_type": "stream",
     "text": [
      "     Unnamed: 0  Pregnancies  Glucose  BloodPressure  SkinThickness  Insulin  \\\n",
      "718         718            1      108             60             46      178   \n",
      "421         421            2       94             68             18       76   \n",
      "212         212            7      179             95             31        0   \n",
      "216         216            5      109             62             41      129   \n",
      "640         640            0      102             86             17      105   \n",
      "..          ...          ...      ...            ...            ...      ...   \n",
      "646         646            1      167             74             17      144   \n",
      "709         709            2       93             64             32      160   \n",
      "302         302            5       77             82             41       42   \n",
      "156         156            2       99             52             15       94   \n",
      "205         205            5      111             72             28        0   \n",
      "\n",
      "      BMI  DiabetesPedigreeFunction  Age  Outcome  \n",
      "718  35.5                     0.415   24        0  \n",
      "421  26.0                     0.561   21        0  \n",
      "212  34.2                     0.164   60        0  \n",
      "216  35.8                     0.514   25        1  \n",
      "640  29.3                     0.695   27        0  \n",
      "..    ...                       ...  ...      ...  \n",
      "646  23.4                     0.447   33        1  \n",
      "709  38.0                     0.674   23        1  \n",
      "302  35.8                     0.156   35        0  \n",
      "156  24.6                     0.637   21        0  \n",
      "205  23.9                     0.407   27        0  \n",
      "\n",
      "[500 rows x 10 columns]\n"
     ]
    }
   ],
   "source": [
    "bootstrap_dataframe= diabetes.sample(n=500,replace=True ,random_state= 1642)\n",
    "print(bootstrap_dataframe)\n"
   ]
  },
  {
   "cell_type": "code",
   "execution_count": 62,
   "id": "9a03167f",
   "metadata": {
    "tags": []
   },
   "outputs": [],
   "source": [
    "# finding mean for bootsraop sample and population data set"
   ]
  },
  {
   "cell_type": "code",
   "execution_count": 64,
   "id": "97431d3c",
   "metadata": {
    "tags": []
   },
   "outputs": [],
   "source": [
    "bootstrap_mean=bootstrap_dataframe[\"BloodPressure\"].mean()\n",
    "population_mean=diabetes[\"BloodPressure\"].mean()"
   ]
  },
  {
   "cell_type": "code",
   "execution_count": 65,
   "id": "396c1c11",
   "metadata": {
    "tags": []
   },
   "outputs": [],
   "source": [
    "#generating lists for mean values of blood presuure for bootstrap data and population"
   ]
  },
  {
   "cell_type": "code",
   "execution_count": 66,
   "id": "570e42fd",
   "metadata": {
    "tags": []
   },
   "outputs": [],
   "source": [
    "keys=[\"bootstrapdata\",\"population\"]\n",
    "values=[bootstrap_mean,population_mean]\n"
   ]
  },
  {
   "cell_type": "code",
   "execution_count": 67,
   "id": "0f513de3",
   "metadata": {
    "tags": []
   },
   "outputs": [],
   "source": [
    "#visualizing the means of blood pressure for bootstrap sample and population"
   ]
  },
  {
   "cell_type": "code",
   "execution_count": 69,
   "id": "ed1625ce",
   "metadata": {
    "tags": []
   },
   "outputs": [
    {
     "data": {
      "image/png": "[encoded data removed]",
      "text/plain": [
       "<Figure size 640x480 with 1 Axes>"
      ]
     },
     "metadata": {},
     "output_type": "display_data"
    }
   ],
   "source": [
    "plt.bar(keys, values, color ='red',\n",
    "        width = 0.5)\n",
    " \n",
    "plt.xlabel(\"mean\")\n",
    "plt.ylabel(\" values \")\n",
    "plt.title(\"comparing bootstrap_sample and population_mean for bloodpressure\")\n",
    "\n",
    "\n",
    "plt.savefig(\"D:/16346059/Diabetes_Analysis/results/botstrapSample_population_mean.png\")\n",
    "\n",
    "plt.show()\n"
   ]
  },
  {
   "cell_type": "code",
   "execution_count": 70,
   "id": "4beeb90e",
   "metadata": {
    "tags": []
   },
   "outputs": [],
   "source": [
    "#from the figure we can see that mean for bootstrap sample and population data set are almost equal"
   ]
  },
  {
   "cell_type": "code",
   "execution_count": 71,
   "id": "df5e3082",
   "metadata": {
    "tags": []
   },
   "outputs": [],
   "source": [
    "# finding the standard deviation fr bootsrap sample and population"
   ]
  },
  {
   "cell_type": "code",
   "execution_count": 73,
   "id": "ddbd67e5",
   "metadata": {
    "tags": []
   },
   "outputs": [],
   "source": [
    "bootstrap_std=bootstrap_dataframe[\"BloodPressure\"].std()\n",
    "population_std=diabetes[\"BloodPressure\"].std()"
   ]
  },
  {
   "cell_type": "code",
   "execution_count": 74,
   "id": "d4632a25",
   "metadata": {
    "tags": []
   },
   "outputs": [],
   "source": [
    "#creating lists for standard deviation of bloodpresuiure for bootstrap sample and population data set"
   ]
  },
  {
   "cell_type": "raw",
   "id": "59344c4a",
   "metadata": {},
   "source": [
    "keys=[\"bootstrapdata\",\"population\"]\n",
    "values=[bootstrap_std,population_std]\n"
   ]
  },
  {
   "cell_type": "code",
   "execution_count": 75,
   "id": "cd9c2051",
   "metadata": {
    "tags": []
   },
   "outputs": [],
   "source": [
    "#visualizing standard deviation of blood pressure for bootstrap data nad population data set"
   ]
  },
  {
   "cell_type": "code",
   "execution_count": 77,
   "id": "28da43e9",
   "metadata": {
    "tags": []
   },
   "outputs": [
    {
     "data": {
      "image/png": "[encoded data removed]",
      "text/plain": [
       "<Figure size 640x480 with 1 Axes>"
      ]
     },
     "metadata": {},
     "output_type": "display_data"
    }
   ],
   "source": [
    "plt.bar(keys, values, color ='red',\n",
    "        width = 0.5)\n",
    " \n",
    "plt.xlabel(\"standard deviation\")\n",
    "plt.ylabel(\" values \")\n",
    "plt.title(\"comparing bootstrap_sample and population standard deviation for bloodpressure\")\n",
    "\n",
    "\n",
    "plt.savefig(\"D:/16346059/Diabetes_Analysis/results/botstrapSample_population_standarddeviation.png\")\n",
    "\n",
    "plt.show()\n"
   ]
  },
  {
   "cell_type": "code",
   "execution_count": 78,
   "id": "204809d4",
   "metadata": {
    "tags": []
   },
   "outputs": [],
   "source": [
    "#from the figure  we can see that standard deviation fotr bootstrap sample and populatrion dataset are almost equal"
   ]
  },
  {
   "cell_type": "code",
   "execution_count": 79,
   "id": "2e852e51",
   "metadata": {
    "tags": []
   },
   "outputs": [],
   "source": [
    "# finding the 98th percentile for Bloodpressuire for bootstrap sample and population"
   ]
  },
  {
   "cell_type": "code",
   "execution_count": 80,
   "id": "d9428c89",
   "metadata": {
    "tags": []
   },
   "outputs": [],
   "source": [
    "Bootstrap_sample_98=bootstrap_dataframe.BloodPressure.quantile(0.98)  # 90th percentile\n"
   ]
  },
  {
   "cell_type": "code",
   "execution_count": 82,
   "id": "a0cdaf0c",
   "metadata": {
    "tags": []
   },
   "outputs": [],
   "source": [
    "population_98=diabetes.BloodPressure.quantile(0.98)"
   ]
  },
  {
   "cell_type": "code",
   "execution_count": 83,
   "id": "9935fe3f",
   "metadata": {
    "tags": []
   },
   "outputs": [],
   "source": [
    "#generating lists to visualize 98 th percentile of Bloodpressure"
   ]
  },
  {
   "cell_type": "code",
   "execution_count": 84,
   "id": "83c317c4",
   "metadata": {
    "tags": []
   },
   "outputs": [],
   "source": [
    "keys=[\"Bootstrap_sample\",\"population\"]\n",
    "\n",
    "values=[Bootstrap_sample_98,population_98]"
   ]
  },
  {
   "cell_type": "code",
   "execution_count": 85,
   "id": "33bb84e8",
   "metadata": {
    "tags": []
   },
   "outputs": [],
   "source": [
    "# visualizing the 98th percentile of Bloodpressure for bootstrapsample and population data sets\n"
   ]
  },
  {
   "cell_type": "code",
   "execution_count": 86,
   "id": "9e884795",
   "metadata": {
    "tags": []
   },
   "outputs": [
    {
     "data": {
      "image/png": "[encoded data removed]",
      "text/plain": [
       "<Figure size 640x480 with 1 Axes>"
      ]
     },
     "metadata": {},
     "output_type": "display_data"
    }
   ],
   "source": [
    "plt.bar(keys, values, color ='red',\n",
    "        width = 0.5)\n",
    " \n",
    "plt.xlabel(\"98th percentile\")\n",
    "plt.ylabel(\" values \")\n",
    "plt.title(\"comparing bootstrapsample and population 98th percentile\")\n",
    "\n",
    "\n",
    "plt.savefig(\"D:/16346059/Diabetes_Analysis/results/bootstrap_sample_population_98th percentile.png\")\n",
    "\n",
    "plt.show()\n"
   ]
  },
  {
   "cell_type": "code",
   "execution_count": 87,
   "id": "1f17ea70",
   "metadata": {
    "tags": []
   },
   "outputs": [],
   "source": [
    "# from the above figure we can say that the bootstrap sample and population 98th percentile values are almost equal"
   ]
  },
  {
   "cell_type": "code",
   "execution_count": null,
   "id": "c1b985a6",
   "metadata": {},
   "outputs": [],
   "source": []
  },
  {
   "cell_type": "code",
   "execution_count": null,
   "id": "9f0b05f6",
   "metadata": {},
   "outputs": [],
   "source": []
  }
 ],
 "metadata": {
  "kernelspec": {
   "display_name": "Python 3 (ipykernel)",
   "language": "python",
   "name": "python3"
  },
  "language_info": {
   "codemirror_mode": {
    "name": "ipython",
    "version": 3
   },
   "file_extension": ".py",
   "mimetype": "text/x-python",
   "name": "python",
   "nbconvert_exporter": "python",
   "pygments_lexer": "ipython3",
   "version": "3.11.2"
  }
 },
 "nbformat": 4,
 "nbformat_minor": 5
}
